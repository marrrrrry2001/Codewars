{
  "nbformat": 4,
  "nbformat_minor": 0,
  "metadata": {
    "colab": {
      "provenance": [],
      "authorship_tag": "ABX9TyNeu7gRmfRcOcRPUlpn5M3L"
    },
    "kernelspec": {
      "name": "python3",
      "display_name": "Python 3"
    },
    "language_info": {
      "name": "python"
    }
  },
  "cells": [
    {
      "cell_type": "code",
      "execution_count": 2,
      "metadata": {
        "id": "fxmF_-2SfQAA"
      },
      "outputs": [],
      "source": [
        "import heapq\n",
        "import networkx as nx\n",
        "import matplotlib.pyplot as plt"
      ]
    },
    {
      "cell_type": "code",
      "source": [
        "class Graph:\n",
        "    def __init__(self):\n",
        "        self.edges = {}\n",
        "\n",
        "    def add_edge(self, node_a, node_b, weight):\n",
        "        if node_a not in self.edges:\n",
        "            self.edges[node_a] = {}\n",
        "        self.edges[node_a][node_b] = weight\n",
        "\n",
        "        if node_b not in self.edges:\n",
        "            self.edges[node_b] = {}\n",
        "        self.edges[node_b][node_a] = weight\n",
        "\n",
        "    def breadth_first_search(self, start, end):\n",
        "        visited = [start]\n",
        "        queue = [[start]]\n",
        "\n",
        "        if start == end:\n",
        "            return queue[0]\n",
        "\n",
        "        while queue:\n",
        "            path = queue.pop(0)\n",
        "            node = path[-1]\n",
        "\n",
        "            for neighbor in self.edges[node]:\n",
        "                if neighbor not in visited:\n",
        "                    new_path = list(path)\n",
        "                    new_path.append(neighbor)\n",
        "                    queue.append(new_path)\n",
        "                    visited.append(neighbor)\n",
        "                    if neighbor == end:\n",
        "                        return new_path\n",
        "\n",
        "        return None\n",
        "\n",
        "    def dijkstra(self, start, end):\n",
        "        distances = {node: float('inf') for node in self.edges}\n",
        "        distances[start] = 0\n",
        "        queue = [(0, start)]\n",
        "\n",
        "        while queue:\n",
        "            current_distance, current_node = heapq.heappop(queue)\n",
        "\n",
        "            if current_distance > distances[current_node]:\n",
        "                continue\n",
        "\n",
        "            for neighbor, weight in self.edges[current_node].items():\n",
        "                distance = current_distance + weight\n",
        "\n",
        "                if distance < distances[neighbor]:\n",
        "                    distances[neighbor] = distance\n",
        "                    heapq.heappush(queue, (distance, neighbor))\n",
        "\n",
        "        path = []\n",
        "        current_node = end\n",
        "\n",
        "        while current_node != start:\n",
        "            path.append(current_node)\n",
        "\n",
        "            for neighbor, weight in self.edges[current_node].items():\n",
        "                if distances[current_node] == distances[neighbor] + weight:\n",
        "                    current_node = neighbor\n",
        "                    break\n",
        "\n",
        "        path.append(start)\n",
        "        path.reverse()\n",
        "        return path"
      ],
      "metadata": {
        "id": "KFeQT72pfi2E"
      },
      "execution_count": 3,
      "outputs": []
    },
    {
      "cell_type": "code",
      "source": [
        "# создаем граф\n",
        "g = Graph()\n",
        "g.add_edge('A', 'B', 2)\n",
        "g.add_edge('A', 'C', 3)\n",
        "g.add_edge('B', 'C', 1)\n",
        "g.add_edge('B', 'D', 5)\n",
        "g.add_edge('C', 'D', 2)\n",
        "g.add_edge('A', 'F', 3)\n",
        "g.add_edge('F', 'B', 6)\n",
        "# создаем графическое представление\n",
        "G = nx.Graph()\n",
        "for node, neighbors in g.edges.items():\n",
        "    for neighbor, weight in neighbors.items():\n",
        "        G.add_edge(node, neighbor, weight=weight)\n",
        "\n",
        "# отображаем граф\n",
        "pos = nx.spring_layout(G)\n",
        "nx.draw(G, pos, with_labels=True)\n",
        "labels = nx.get_edge_attributes(G, 'weight')\n",
        "nx.draw_networkx_edge_labels(G, pos, edge_labels=labels)\n",
        "plt.show()"
      ],
      "metadata": {
        "colab": {
          "base_uri": "https://localhost:8080/",
          "height": 319
        },
        "id": "OB-2qneDfREy",
        "outputId": "f57120e7-5303-4edb-d1cc-9486d4998980"
      },
      "execution_count": 9,
      "outputs": [
        {
          "output_type": "display_data",
          "data": {
            "text/plain": [
              "<Figure size 432x288 with 1 Axes>"
            ],
            "image/png": "[encoded data removed]"
          },
          "metadata": {}
        }
      ]
    },
    {
      "cell_type": "code",
      "source": [
        "print(g.breadth_first_search('A', 'D')) # ['A', 'E']\n",
        "print(g.dijkstra('A', 'D')) # ['A', 'C', 'D', 'E']"
      ],
      "metadata": {
        "colab": {
          "base_uri": "https://localhost:8080/"
        },
        "id": "HcYZxhgtgjiP",
        "outputId": "4784fbae-f158-4a29-8fa7-9860d81d26ce"
      },
      "execution_count": 11,
      "outputs": [
        {
          "output_type": "stream",
          "name": "stdout",
          "text": [
            "['A', 'B', 'D']\n",
            "['A', 'C', 'D']\n"
          ]
        }
      ]
    }
  ]
}